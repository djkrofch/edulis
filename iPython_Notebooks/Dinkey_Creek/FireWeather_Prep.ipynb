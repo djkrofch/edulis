{
 "cells": [
  {
   "cell_type": "markdown",
   "metadata": {},
   "source": [
    "### Fire Weather Prep\n",
    "#### The goal of this notebook is to leverage RAWS data to generate fire weather inputs for LANDIS across the landscape. The notebook imports from FireWeatherIndex_Calculations.py, a script originially written by Louise Loudermilk to convert time series of daily data into the LANDIS input files required by the Dynamic Fire and Fuels System extension. Here, we modify this script and set up a work flow to process RAWS data by year."
   ]
  },
  {
   "cell_type": "code",
   "execution_count": 1,
   "metadata": {
    "collapsed": false
   },
   "outputs": [],
   "source": [
    "import pandas as pd\n",
    "import seaborn as sns\n",
    "import numpy as np\n",
    "import os, datetime\n",
    "from scipy import stats\n",
    "from FireWeatherIndex_Calculations import DynamicFireWeatherCalculations\n",
    "DFFSDir = 'C:/Research/Dinkey_Creek/DFFS_Data/FireWeather/'"
   ]
  },
  {
   "cell_type": "markdown",
   "metadata": {},
   "source": [
    "#### I chose to represent fire weather using RAWS data from each of the three fire regions represented in our simulation. The fire regions were defiend by Shuang et al., 2015, and were defined using elevation bins. FR1 is the lowest elevation region, and RAWS data from Batterson California were used to generate the fire weather (elvation = 963 m). FR2 is the middle elevation region, with fireweather derived from the Dinkey California station (elevation = 1727 m). FR3 is the high elevation region, and I chose the High Sierra California RAWS station (elevation = 2256 m). All stations are fairly proximal to one another, and roughly represent the middle elevation of their respective fire regions.\n",
    "\n",
    "#### RAWS data fills bad values with a mask (I chose -9999). That means we need to remove those rows before the fireweather prep script can operate on the downloaded data.\n",
    "\n",
    "#### The current state of Louise's script needs some specific data formatting.. since some of the RAWS data starts or ends in the middle of  a year, I clipped the inputs to start in 2002 and end in 2014.. that way only complete years (mostly just that the data start on the 1st and end on the 365th day of year) are used in the analysis -- I Think this is only a problem because of the way the script assesses season, and think it might be worth modernizing the script to leverage Pandas and timestamps..."
   ]
  },
  {
   "cell_type": "code",
   "execution_count": 2,
   "metadata": {
    "collapsed": false
   },
   "outputs": [],
   "source": [
    "# Function to clean up teh mask values and data types from the RAWS outputs. Note, here the RAWS ASCII Downloads\n",
    "# have to be manually edited to conform to the sample input from Louise's script in order to run.\n",
    "def cleanRaws(formattedRawsData, maskValue, yearStart, yearStop, cleanedRawsData):\n",
    "    rawsdata = pd.read_csv(formattedRawsData)\n",
    "    rawsdata[rawsdata == maskValue] = np.nan\n",
    "    rawsdata = rawsdata.dropna()\n",
    "    rawsdata.Juliandate = rawsdata.Juliandate.astype(int)\n",
    "    rawsdata.windazimuth = rawsdata.windazimuth.astype(int)\n",
    "    rawsdata.relativehumidity = rawsdata.relativehumidity.astype(int)\n",
    "    rawsdata = rawsdata[rawsdata.year > yearStart]\n",
    "    rawsdata = rawsdata[rawsdata.year < yearStop]\n",
    "\n",
    "    rawsdata.to_csv(cleanedRawsData, index = False)\n",
    "    \n"
   ]
  },
  {
   "cell_type": "code",
   "execution_count": 3,
   "metadata": {
    "collapsed": false
   },
   "outputs": [],
   "source": [
    "# Clean up RAWS raw data and generate FW inputs for the three fire regions\n",
    "\n",
    "cleanRaws(DFFSDir + 'BATTERSON_RAWS_FORMATTED.csv',-9999, \n",
    "          2000, 2014, DFFSDir + 'FR1_RawsWeather.csv')\n",
    "cleanRaws(DFFSDir + 'DINKEY_RAWS_FORMATTED.csv',-9999,  \n",
    "          2000, 2014, DFFSDir + 'FR2_RawsWeather.csv')\n",
    "cleanRaws(DFFSDir + 'HIGH_SIERRA_RAWS_FORMATTED.csv',-9999,  \n",
    "          2000, 2014, DFFSDir + 'FR3_RawsWeather.csv')\n"
   ]
  },
  {
   "cell_type": "code",
   "execution_count": 9,
   "metadata": {
    "collapsed": false
   },
   "outputs": [
    {
     "name": "stdout",
     "output_type": "stream",
     "text": [
      "No. days being evaluated  4644\n",
      "\n",
      "Writing output file for LANDIS-II  . . . \n",
      "\n",
      " no. of daily values (rows) output to file =  2055\n",
      "No. days being evaluated  4725\n",
      "\n",
      "Writing output file for LANDIS-II  . . . \n",
      "\n",
      " no. of daily values (rows) output to file =  1346\n",
      "No. days being evaluated  4356\n",
      "\n",
      "Writing output file for LANDIS-II  . . . \n",
      "\n",
      " no. of daily values (rows) output to file =  2031\n"
     ]
    },
    {
     "data": {
      "text/html": [
       "<div>\n",
       "<table border=\"1\" class=\"dataframe\">\n",
       "  <thead>\n",
       "    <tr style=\"text-align: right;\">\n",
       "      <th></th>\n",
       "      <th></th>\n",
       "      <th>FFMC</th>\n",
       "      <th>BUI</th>\n",
       "      <th>WSV</th>\n",
       "      <th>WINDDir</th>\n",
       "      <th>FWIBin</th>\n",
       "    </tr>\n",
       "    <tr>\n",
       "      <th>Ecoregion</th>\n",
       "      <th>Season</th>\n",
       "      <th></th>\n",
       "      <th></th>\n",
       "      <th></th>\n",
       "      <th></th>\n",
       "      <th></th>\n",
       "    </tr>\n",
       "  </thead>\n",
       "  <tbody>\n",
       "    <tr>\n",
       "      <th rowspan=\"3\" valign=\"top\">FR1</th>\n",
       "      <th>fall</th>\n",
       "      <td>152</td>\n",
       "      <td>152</td>\n",
       "      <td>152</td>\n",
       "      <td>152</td>\n",
       "      <td>152</td>\n",
       "    </tr>\n",
       "    <tr>\n",
       "      <th>spring</th>\n",
       "      <td>48</td>\n",
       "      <td>48</td>\n",
       "      <td>48</td>\n",
       "      <td>48</td>\n",
       "      <td>48</td>\n",
       "    </tr>\n",
       "    <tr>\n",
       "      <th>summer</th>\n",
       "      <td>1855</td>\n",
       "      <td>1855</td>\n",
       "      <td>1855</td>\n",
       "      <td>1855</td>\n",
       "      <td>1855</td>\n",
       "    </tr>\n",
       "    <tr>\n",
       "      <th rowspan=\"2\" valign=\"top\">FR2</th>\n",
       "      <th>fall</th>\n",
       "      <td>4</td>\n",
       "      <td>4</td>\n",
       "      <td>4</td>\n",
       "      <td>4</td>\n",
       "      <td>4</td>\n",
       "    </tr>\n",
       "    <tr>\n",
       "      <th>summer</th>\n",
       "      <td>1342</td>\n",
       "      <td>1342</td>\n",
       "      <td>1342</td>\n",
       "      <td>1342</td>\n",
       "      <td>1342</td>\n",
       "    </tr>\n",
       "    <tr>\n",
       "      <th rowspan=\"2\" valign=\"top\">FR3</th>\n",
       "      <th>fall</th>\n",
       "      <td>191</td>\n",
       "      <td>191</td>\n",
       "      <td>191</td>\n",
       "      <td>191</td>\n",
       "      <td>191</td>\n",
       "    </tr>\n",
       "    <tr>\n",
       "      <th>summer</th>\n",
       "      <td>1840</td>\n",
       "      <td>1840</td>\n",
       "      <td>1840</td>\n",
       "      <td>1840</td>\n",
       "      <td>1840</td>\n",
       "    </tr>\n",
       "  </tbody>\n",
       "</table>\n",
       "</div>"
      ],
      "text/plain": [
       "                  FFMC   BUI   WSV  WINDDir  FWIBin\n",
       "Ecoregion Season                                   \n",
       "FR1       fall     152   152   152      152     152\n",
       "          spring    48    48    48       48      48\n",
       "          summer  1855  1855  1855     1855    1855\n",
       "FR2       fall       4     4     4        4       4\n",
       "          summer  1342  1342  1342     1342    1342\n",
       "FR3       fall     191   191   191      191     191\n",
       "          summer  1840  1840  1840     1840    1840"
      ]
     },
     "execution_count": 9,
     "metadata": {},
     "output_type": "execute_result"
    }
   ],
   "source": [
    "# Run Louise's script on the three fire regions input RAWS generated previously.\n",
    "fireRegions = ['FR1','FR2','FR3']\n",
    "for region in fireRegions:\n",
    "    p = DynamicFireWeatherCalculations(DFFSDir + region +'_RawsWeather.csv',\n",
    "                                       DFFSDir + 'sample_startingvalues_' + region + '.csv',\n",
    "                                       DFFSDir +  region +'_FireWeather.csv', region)\n",
    "    p.run()\n",
    "FR1 = pd.read_csv(DFFSDir + 'FR1_FireWeather.csv')\n",
    "FR2 = pd.read_csv(DFFSDir + 'FR2_FireWeather.csv')\n",
    "FR3 = pd.read_csv(DFFSDir + 'FR3_FireWeather.csv')\n",
    "\n",
    "DinkeyFW = pd.concat([FR1, FR2, FR3])\n",
    "DinkeyFW.to_csv(DFFSDir + 'DinkeyFW.csv', index = False)\n",
    "DinkeyFW.groupby(['Ecoregion','Season']).count()\n"
   ]
  },
  {
   "cell_type": "markdown",
   "metadata": {
    "collapsed": false
   },
   "source": [
    "#### We need to hack the weather data a bit to allow fires in Spring for both FR2 and FR3. Realistically, we don't expect these regions to burn in the spring, however LANDIS throws errors if we want to say some regions can burn in the spring and some can't. Our solution here is to create some fake fire weather data for FR2 and FR3 with sufficiently high foliar moisture to effectively keep fires from (at least) propagating in the Spring."
   ]
  },
  {
   "cell_type": "code",
   "execution_count": 19,
   "metadata": {
    "collapsed": false
   },
   "outputs": [],
   "source": [
    "FFMC = [100, 100, 100, 100, 100, 100, 100, 100, 100, 100]\n",
    "BUI = [0, 0, 0, 0, 0, 0, 0, 0, 0, 0]\n",
    "WSV = [0,0,0,0,0,0,0,0,0,0]\n",
    "WDR = [0,0,0,0,0,0,0,0,0,0]\n",
    "FWIBin = [1,1,1,1,1,1,1,1,1,1]\n",
    "Season = ['spring','spring','spring','spring','spring',\n",
    "          'spring','spring','spring','spring','spring']\n",
    "Ecoregion = ['FR2','FR2','FR2','FR2','FR2',\n",
    "             'FR3','FR3','FR3','FR3','FR3']\n",
    "FW_to_Add = pd.DataFrame(dict(FFMC = FFMC, BUI = BUI, WSV = WSV, \n",
    "                              WINDDir = WDR, FWIBin = FWIBin, \n",
    "                              Season = Season, Ecoregion = Ecoregion))\n",
    "\n",
    "DinkeyFW_h = pd.concat((DinkeyFW, FW_to_Add))"
   ]
  },
  {
   "cell_type": "code",
   "execution_count": 21,
   "metadata": {
    "collapsed": false
   },
   "outputs": [
    {
     "data": {
      "text/html": [
       "<div>\n",
       "<table border=\"1\" class=\"dataframe\">\n",
       "  <thead>\n",
       "    <tr style=\"text-align: right;\">\n",
       "      <th></th>\n",
       "      <th></th>\n",
       "      <th>BUI</th>\n",
       "      <th>FFMC</th>\n",
       "      <th>FWIBin</th>\n",
       "      <th>WINDDir</th>\n",
       "      <th>WSV</th>\n",
       "    </tr>\n",
       "    <tr>\n",
       "      <th>Ecoregion</th>\n",
       "      <th>Season</th>\n",
       "      <th></th>\n",
       "      <th></th>\n",
       "      <th></th>\n",
       "      <th></th>\n",
       "      <th></th>\n",
       "    </tr>\n",
       "  </thead>\n",
       "  <tbody>\n",
       "    <tr>\n",
       "      <th rowspan=\"3\" valign=\"top\">FR1</th>\n",
       "      <th>fall</th>\n",
       "      <td>152</td>\n",
       "      <td>152</td>\n",
       "      <td>152</td>\n",
       "      <td>152</td>\n",
       "      <td>152</td>\n",
       "    </tr>\n",
       "    <tr>\n",
       "      <th>spring</th>\n",
       "      <td>48</td>\n",
       "      <td>48</td>\n",
       "      <td>48</td>\n",
       "      <td>48</td>\n",
       "      <td>48</td>\n",
       "    </tr>\n",
       "    <tr>\n",
       "      <th>summer</th>\n",
       "      <td>1855</td>\n",
       "      <td>1855</td>\n",
       "      <td>1855</td>\n",
       "      <td>1855</td>\n",
       "      <td>1855</td>\n",
       "    </tr>\n",
       "    <tr>\n",
       "      <th rowspan=\"3\" valign=\"top\">FR2</th>\n",
       "      <th>fall</th>\n",
       "      <td>4</td>\n",
       "      <td>4</td>\n",
       "      <td>4</td>\n",
       "      <td>4</td>\n",
       "      <td>4</td>\n",
       "    </tr>\n",
       "    <tr>\n",
       "      <th>spring</th>\n",
       "      <td>5</td>\n",
       "      <td>5</td>\n",
       "      <td>5</td>\n",
       "      <td>5</td>\n",
       "      <td>5</td>\n",
       "    </tr>\n",
       "    <tr>\n",
       "      <th>summer</th>\n",
       "      <td>1342</td>\n",
       "      <td>1342</td>\n",
       "      <td>1342</td>\n",
       "      <td>1342</td>\n",
       "      <td>1342</td>\n",
       "    </tr>\n",
       "    <tr>\n",
       "      <th rowspan=\"3\" valign=\"top\">FR3</th>\n",
       "      <th>fall</th>\n",
       "      <td>191</td>\n",
       "      <td>191</td>\n",
       "      <td>191</td>\n",
       "      <td>191</td>\n",
       "      <td>191</td>\n",
       "    </tr>\n",
       "    <tr>\n",
       "      <th>spring</th>\n",
       "      <td>5</td>\n",
       "      <td>5</td>\n",
       "      <td>5</td>\n",
       "      <td>5</td>\n",
       "      <td>5</td>\n",
       "    </tr>\n",
       "    <tr>\n",
       "      <th>summer</th>\n",
       "      <td>1840</td>\n",
       "      <td>1840</td>\n",
       "      <td>1840</td>\n",
       "      <td>1840</td>\n",
       "      <td>1840</td>\n",
       "    </tr>\n",
       "  </tbody>\n",
       "</table>\n",
       "</div>"
      ],
      "text/plain": [
       "                   BUI  FFMC  FWIBin  WINDDir   WSV\n",
       "Ecoregion Season                                   \n",
       "FR1       fall     152   152     152      152   152\n",
       "          spring    48    48      48       48    48\n",
       "          summer  1855  1855    1855     1855  1855\n",
       "FR2       fall       4     4       4        4     4\n",
       "          spring     5     5       5        5     5\n",
       "          summer  1342  1342    1342     1342  1342\n",
       "FR3       fall     191   191     191      191   191\n",
       "          spring     5     5       5        5     5\n",
       "          summer  1840  1840    1840     1840  1840"
      ]
     },
     "execution_count": 21,
     "metadata": {},
     "output_type": "execute_result"
    }
   ],
   "source": [
    "DinkeyFW_h.to_csv(DFFSDir + 'DinkeyFW_h.csv', index = False)\n",
    "DinkeyFW_h.groupby(['Ecoregion','Season']).count()\n"
   ]
  }
 ],
 "metadata": {
  "kernelspec": {
   "display_name": "Python 2",
   "language": "python",
   "name": "python2"
  },
  "language_info": {
   "codemirror_mode": {
    "name": "ipython",
    "version": 2
   },
   "file_extension": ".py",
   "mimetype": "text/x-python",
   "name": "python",
   "nbconvert_exporter": "python",
   "pygments_lexer": "ipython2",
   "version": "2.7.10"
  }
 },
 "nbformat": 4,
 "nbformat_minor": 0
}
