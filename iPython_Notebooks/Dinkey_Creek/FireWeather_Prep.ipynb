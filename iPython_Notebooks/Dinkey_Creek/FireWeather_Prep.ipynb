{
 "cells": [
  {
   "cell_type": "markdown",
   "metadata": {},
   "source": [
    "### Fire Weather Prep\n",
    "#### The goal of this notebook is to leverage RAWS data to generate fire weather inputs for LANDIS across the landscape. The notebook imports from FireWeatherIndex_Calculations.py, a script originially written by Louise Loudermilk to convert time series of daily data into the LANDIS input files required by the Dynamic Fire and Fuels System extension. Here, we modify this script and set up a work flow to process RAWS data by year."
   ]
  },
  {
   "cell_type": "code",
   "execution_count": 1,
   "metadata": {
    "collapsed": false
   },
   "outputs": [],
   "source": [
    "import pandas as pd\n",
    "import seaborn as sns\n",
    "import numpy as np\n",
    "import os, datetime\n",
    "from scipy import stats\n",
    "from FireWeatherIndex_Calculations import DynamicFireWeatherCalculations\n",
    "DFFSDir = 'C:/Research/Dinkey_Creek/DFFS_Data/FireWeather/'"
   ]
  },
  {
   "cell_type": "markdown",
   "metadata": {},
   "source": [
    "#### I chose to represent fire weather using RAWS data from each of the three fire regions represented in our simulation. The fire regions were defiend by Shuang et al., 2015, and were defined using elevation bins. FR1 is the lowest elevation region, and RAWS data from Batterson California were used to generate the fire weather (elvation = 963 m). FR2 is the middle elevation region, with fireweather derived from the Dinkey California station (elevation = 1727 m). FR3 is the high elevation region, and I chose the High Sierra California RAWS station (elevation = 2256 m). All stations are fairly proximal to one another, and roughly represent the middle elevation of their respective fire regions.\n",
    "\n",
    "#### RAWS data fills bad values with a mask (I chose -9999). That means we need to remove those rows before the fireweather prep script can operate on the downloaded data.\n",
    "\n",
    "#### The current state of Louise's script needs some specific data formatting.. since some of the RAWS data starts or ends in the middle of  a year, I clipped the inputs to start in 2002 and end in 2014.. that way only complete years (mostly just that the data start on the 1st and end on the 365th day of year) are used in the analysis -- I Think this is only a problem because of the way the script assesses season, and think it might be worth modernizing the script to leverage Pandas and timestamps..."
   ]
  },
  {
   "cell_type": "code",
   "execution_count": 39,
   "metadata": {
    "collapsed": false
   },
   "outputs": [],
   "source": [
    "# Function to clean up teh mask values and data types from the RAWS outputs. Note, here the RAWS ASCII Downloads\n",
    "# have to be manually edited to conform to the sample input from Louise's script in order to run.\n",
    "def cleanRaws(formattedRawsData, maskValue, yearStart, yearStop, cleanedRawsData):\n",
    "    rawsdata = pd.read_csv(formattedRawsData)\n",
    "    rawsdata[rawsdata == maskValue] = np.nan\n",
    "    rawsdata = rawsdata.dropna()\n",
    "    rawsdata.Juliandate = rawsdata.Juliandate.astype(int)\n",
    "    rawsdata.windazimuth = rawsdata.windazimuth.astype(int)\n",
    "    rawsdata.relativehumidity = rawsdata.relativehumidity.astype(int)\n",
    "    rawsdata = rawsdata[rawsdata.year > yearStart]\n",
    "    rawsdata = rawsdata[rawsdata.year < yearStop]\n",
    "\n",
    "    rawsdata.to_csv(cleanedRawsData, index = False)\n",
    "    \n"
   ]
  },
  {
   "cell_type": "code",
   "execution_count": 44,
   "metadata": {
    "collapsed": false
   },
   "outputs": [],
   "source": [
    "# Clean up RAWS raw data and generate FW inputs for the three fire regions\n",
    "\n",
    "cleanRaws(DFFSDir + 'BATTERSON_RAWS_FORMATTED.csv',-9999, \n",
    "          2001, 2014, DFFSDir + 'FR1_RawsWeather.csv')\n",
    "cleanRaws(DFFSDir + 'DINKEY_RAWS_FORMATTED.csv',-9999,  \n",
    "          2001, 2014, DFFSDir + 'FR2_RawsWeather.csv')\n",
    "cleanRaws(DFFSDir + 'HIGH_SIERRA_RAWS_FORMATTED.csv',-9999,  \n",
    "          2001, 2014, DFFSDir + 'FR3_RawsWeather.csv')\n"
   ]
  },
  {
   "cell_type": "code",
   "execution_count": 54,
   "metadata": {
    "collapsed": false
   },
   "outputs": [
    {
     "name": "stdout",
     "output_type": "stream",
     "text": [
      "No. days being evaluated  4293\n",
      "\n",
      "Writing output file for LANDIS-II  . . . \n",
      "\n",
      " no. of daily values (rows) output to file =  1880\n",
      "No. days being evaluated  4360\n",
      "\n",
      "Writing output file for LANDIS-II  . . . \n",
      "\n",
      " no. of daily values (rows) output to file =  1219\n",
      "No. days being evaluated  4356\n",
      "\n",
      "Writing output file for LANDIS-II  . . . \n",
      "\n",
      " no. of daily values (rows) output to file =  2031\n"
     ]
    }
   ],
   "source": [
    "# Run Louise's script on the three fire regions input RAWS generated previously.\n",
    "\n",
    "fireRegions = ['FR1','FR2','FR3']\n",
    "for region in fireRegions:\n",
    "    p = DynamicFireWeatherCalculations(DFFSDir + region +'_RawsWeather.csv',\n",
    "                                       DFFSDir + 'sample_startingvalues_py.csv',\n",
    "                                       DFFSDir +  region +'_FireWeather.csv', region)\n",
    "    p.run()\n",
    "FR1 = pd.read_csv(DFFSDir + 'FR1_FireWeather.csv')\n",
    "FR2 = pd.read_csv(DFFSDir + 'FR2_FireWeather.csv')\n",
    "FR3 = pd.read_csv(DFFSDir + 'FR3_FireWeather.csv')\n",
    "\n",
    "DinkeyFW = pd.concat([FR1, FR2, FR3])\n",
    "DinkeyFW.to_csv(DFFSDir + 'DinkeyFW.csv', index = False)"
   ]
  },
  {
   "cell_type": "code",
   "execution_count": 15,
   "metadata": {
    "collapsed": false
   },
   "outputs": [
    {
     "data": {
      "text/plain": [
       "'C:/Research/Dinkey_Creek/DFFS_Data/FireWeather/DINKEY_RAWS_FORMATTED.csv'"
      ]
     },
     "execution_count": 15,
     "metadata": {},
     "output_type": "execute_result"
    }
   ],
   "source": []
  }
 ],
 "metadata": {
  "kernelspec": {
   "display_name": "Python 2",
   "language": "python",
   "name": "python2"
  },
  "language_info": {
   "codemirror_mode": {
    "name": "ipython",
    "version": 2
   },
   "file_extension": ".py",
   "mimetype": "text/x-python",
   "name": "python",
   "nbconvert_exporter": "python",
   "pygments_lexer": "ipython2",
   "version": "2.7.10"
  }
 },
 "nbformat": 4,
 "nbformat_minor": 0
}
