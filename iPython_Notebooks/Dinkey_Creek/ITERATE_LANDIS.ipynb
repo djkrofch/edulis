{
 "cells": [
  {
   "cell_type": "markdown",
   "metadata": {},
   "source": [
    "### Iterate Landis -- WIP\n",
    "#### Collection of code to run commands to landis in an iterative (batch) framework. The goal here is simply to run a simulation multiple times, and facilitate the permutation of input files."
   ]
  },
  {
   "cell_type": "code",
   "execution_count": 3,
   "metadata": {
    "collapsed": true
   },
   "outputs": [],
   "source": [
    "wkDir = 'C:/Research/Dinkey_Creek/TestRun/'"
   ]
  },
  {
   "cell_type": "code",
   "execution_count": 1,
   "metadata": {
    "collapsed": false
   },
   "outputs": [],
   "source": [
    "# This cell runs simply calls a batch file to run. Might not be the best way to handle iterating over model simulations\n",
    "\n",
    "#from subprocess import Popen\n",
    "#p = Popen(\"RunTest.bat\", cwd=r\"C:/Research/Dinkey_Creek/TestRun/\")\n",
    "#stdout, stderr = p.communicate()\n"
   ]
  },
  {
   "cell_type": "code",
   "execution_count": 25,
   "metadata": {
    "collapsed": false
   },
   "outputs": [
    {
     "ename": "AttributeError",
     "evalue": "'file' object has no attribute 'index'",
     "output_type": "error",
     "traceback": [
      "\u001b[1;31m---------------------------------------------------------------------------\u001b[0m",
      "\u001b[1;31mAttributeError\u001b[0m                            Traceback (most recent call last)",
      "\u001b[1;32m<ipython-input-25-d05e99a3f1e6>\u001b[0m in \u001b[0;36m<module>\u001b[1;34m()\u001b[0m\n\u001b[0;32m      8\u001b[0m     \u001b[1;32mfor\u001b[0m \u001b[0mline\u001b[0m \u001b[1;32min\u001b[0m \u001b[0mf_old\u001b[0m\u001b[1;33m:\u001b[0m\u001b[1;33m\u001b[0m\u001b[0m\n\u001b[0;32m      9\u001b[0m         \u001b[1;32mif\u001b[0m \u001b[1;34m'InitialEcoregionParameters'\u001b[0m \u001b[1;32min\u001b[0m \u001b[0mline\u001b[0m\u001b[1;33m:\u001b[0m\u001b[1;33m\u001b[0m\u001b[0m\n\u001b[1;32m---> 10\u001b[1;33m             \u001b[0mchange_start\u001b[0m \u001b[1;33m=\u001b[0m \u001b[0mf_old\u001b[0m\u001b[1;33m.\u001b[0m\u001b[0mindex\u001b[0m\u001b[1;33m(\u001b[0m\u001b[1;34m'ECO1'\u001b[0m\u001b[1;33m)\u001b[0m\u001b[1;33m\u001b[0m\u001b[0m\n\u001b[0m\u001b[0;32m     11\u001b[0m             \u001b[0mchange_stop\u001b[0m \u001b[1;33m=\u001b[0m \u001b[0mf_old\u001b[0m\u001b[1;33m.\u001b[0m\u001b[0mindex\u001b[0m\u001b[1;33m(\u001b[0m\u001b[1;34m'ECO8'\u001b[0m\u001b[1;33m,\u001b[0m \u001b[0mchange_start\u001b[0m\u001b[1;33m)\u001b[0m\u001b[1;33m\u001b[0m\u001b[0m\n",
      "\u001b[1;31mAttributeError\u001b[0m: 'file' object has no attribute 'index'"
     ]
    }
   ],
   "source": [
    "# This cell takes a text file, and makes changes (saving a new file) based on some marker text location\n",
    "\n",
    "# Initialize the file perumtation iterator, and make file names\n",
    "iterator = 0\n",
    "originalFile = wkDir + 'century-succession.txt'\n",
    "newFile = wkDir + 'century-succession_' + str(iterator) + '.txt'\n",
    "with open(originalFile) as f_old, open(newFile, \"w\") as f_new:\n",
    "    for line in f_old:\n",
    "        if 'InitialEcoregionParameters' in line:\n",
    "            change_start = f_old.index('ECO1')\n",
    "            change_stop = f_old.index('ECO8', change_start)"
   ]
  }
 ],
 "metadata": {
  "kernelspec": {
   "display_name": "Python 2",
   "language": "python",
   "name": "python2"
  },
  "language_info": {
   "codemirror_mode": {
    "name": "ipython",
    "version": 2
   },
   "file_extension": ".py",
   "mimetype": "text/x-python",
   "name": "python",
   "nbconvert_exporter": "python",
   "pygments_lexer": "ipython2",
   "version": "2.7.10"
  }
 },
 "nbformat": 4,
 "nbformat_minor": 0
}
