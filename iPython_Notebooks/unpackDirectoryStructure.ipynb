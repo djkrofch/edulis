{
 "cells": [
  {
   "cell_type": "markdown",
   "metadata": {},
   "source": [
    "### Quick script to get the files out of multiple subdirectories into a single directory.\n",
    "#### Here we build in a search flag into the directory iterator function to grab files of a certain type\n",
    "Would be nice to build in some measure of free space detection"
   ]
  },
  {
   "cell_type": "code",
   "execution_count": 17,
   "metadata": {
    "collapsed": false
   },
   "outputs": [],
   "source": [
    "import os, shutil, fnmatch\n",
    "# Set working directory\n",
    "wkdir = 'root/path/where/subdirectories/are/located'\n",
    "destdir = 'full/path/where/files/should/go'\n",
    "grabOnly = 'specifyTheString'\n",
    "\n",
    "for subdir, dirs, files in os.walk(wkdir):\n",
    "    for filename in fnmatch.filter(files, grabOnly):\n",
    "        shutil.copy(os.path.join(subdir, file),destdir )\n",
    "        # ultimately -- write transfer log to file"
   ]
  },
  {
   "cell_type": "code",
   "execution_count": 20,
   "metadata": {
    "collapsed": false
   },
   "outputs": [],
   "source": [
    "# As a funtion:\n",
    "def copyFiles(wkdir, destdir, grabOnly):\n",
    "    for subdir, dirs, files in os.walk(wkdir):\n",
    "        for filename in fnmatch.filter(files, grabOnly):\n",
    "            shutil.copy(os.path.join(subdir, filename),destdir )\n",
    "            # Printing to the console is a bad idea here, tons of files\n",
    "            # Will incorporate writing transfer log to a .txt in the future.\n",
    "            # print 'copied ' + os.path.join(subdir, file) + 'to '+ destdir\n"
   ]
  },
  {
   "cell_type": "code",
   "execution_count": 21,
   "metadata": {
    "collapsed": false
   },
   "outputs": [],
   "source": [
    "# testing the function:\n",
    "wkdir = 'E:\\Fires by state\\\\'\n",
    "destdir = 'E:\\BurnBoundaryShapes_AllStates\\\\'\n",
    "grabOnly = '*burn_bndy*'\n",
    "\n",
    "copyFiles(wkdir, destdir, grabOnly)\n"
   ]
  }
 ],
 "metadata": {
  "kernelspec": {
   "display_name": "Python 2",
   "language": "python",
   "name": "python2"
  },
  "language_info": {
   "codemirror_mode": {
    "name": "ipython",
    "version": 2
   },
   "file_extension": ".py",
   "mimetype": "text/x-python",
   "name": "python",
   "nbconvert_exporter": "python",
   "pygments_lexer": "ipython2",
   "version": "2.7.11"
  }
 },
 "nbformat": 4,
 "nbformat_minor": 0
}
