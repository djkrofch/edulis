{
 "metadata": {
  "name": "",
  "signature": "sha256:cc9fa202529d537b5cf58e1801e4c771a067fee20f7bca147855fdc1e929dcca"
 },
 "nbformat": 3,
 "nbformat_minor": 0,
 "worksheets": [
  {
   "cells": [
    {
     "cell_type": "code",
     "collapsed": false,
     "input": [
      "import matplotlib.pyplot as plt\n",
      "import pandas as pd\n",
      "from matplotlib import rcParams\n",
      "\n",
      "#import seaborn as sns\n",
      "\n",
      "rcParams['axes.labelsize'] = 9\n",
      "rcParams['xtick.labelsize'] = 9\n",
      "rcParams['ytick.labelsize'] = 9\n",
      "rcParams['legend.fontsize'] = 9\n",
      "rcParams['font.family'] = 'serif'\n",
      "rcParams['font.serif'] = ['Computer Modern Roman']\n",
      "#rcParams['text.usetex'] = True"
     ],
     "language": "python",
     "metadata": {},
     "outputs": [],
     "prompt_number": 40
    },
    {
     "cell_type": "code",
     "collapsed": false,
     "input": [
      "dataDir = '/home/nikko/Research/JSAV_Allometry/'\n",
      "groundDataN = 'Jsav_Ground_Data.csv'\n",
      "segFitsN = 'segFits.csv'\n",
      "adjRsquaresN = 'adjustedRsquares.csv'\n",
      "segmentValidationsN = 'segment_valnonan.csv'\n",
      "groundData = pd.read_csv(dataDir + groundDataN)\n",
      "segFits = pd.read_csv(dataDir + segFitsN)\n",
      "adjRsquares = pd.read_csv(dataDir + adjRsquaresN)\n",
      "segmentValidations = pd.read_csv(dataDir + segmentValidationsN)"
     ],
     "language": "python",
     "metadata": {},
     "outputs": [],
     "prompt_number": 29
    },
    {
     "cell_type": "code",
     "collapsed": false,
     "input": [
      "fig, (ax1, ax2, ax3) = plt.subplots(1,3, sharey = True, figsize = (12,4))\n",
      "subplots_adjust(wspace = 0)\n",
      "axs = fig.axes\n",
      "\n",
      "groundData.plot(ax = ax1)"
     ],
     "language": "python",
     "metadata": {},
     "outputs": [
      {
       "metadata": {},
       "output_type": "pyout",
       "prompt_number": 41,
       "text": [
        "<matplotlib.axes.AxesSubplot at 0x7f13eabffd90>"
       ]
      },
      {
       "metadata": {},
       "output_type": "display_data",
       "text": [
        "<matplotlib.figure.Figure at 0x7f141cf6cbd0>"
       ]
      }
     ],
     "prompt_number": 41
    }
   ],
   "metadata": {}
  }
 ]
}