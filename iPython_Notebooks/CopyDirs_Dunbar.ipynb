{
 "cells": [
  {
   "cell_type": "markdown",
   "metadata": {},
   "source": [
    "### Quick script to get the files out of multiple subdirectories into a single directory.\n",
    "#### In this example all files are grabbed, not a big deal if the copied data are generally small in size"
   ]
  },
  {
   "cell_type": "code",
   "execution_count": 15,
   "metadata": {
    "collapsed": false
   },
   "outputs": [],
   "source": [
    "import os, shutil\n",
    "# Set working directory\n",
    "wkdir = 'root/path/where/subdirectories/are/located'\n",
    "destdir = 'full/path/where/files/should/go'\n",
    "\n",
    "for subdir, dirs, files in os.walk(wkdir):\n",
    "    for file in files:\n",
    "        shutil.copy(os.path.join(subdir, file),destdir )\n"
   ]
  },
  {
   "cell_type": "code",
   "execution_count": 16,
   "metadata": {
    "collapsed": false
   },
   "outputs": [],
   "source": [
    "# As a funtion:\n",
    "def copyFiles(wkdir, destdir):\n",
    "    for subdir, dirs, files in os.walk(wkdir):\n",
    "        for file in files:\n",
    "            shutil.copy(os.path.join(subdir, file),destdir )\n",
    "            print 'copied ' + os.path.join(subdir, file) + 'to '+ destdir"
   ]
  },
  {
   "cell_type": "code",
   "execution_count": 17,
   "metadata": {
    "collapsed": false
   },
   "outputs": [],
   "source": [
    "# testing the function:\n",
    "copyFiles(wkdir, destdir)"
   ]
  }
 ],
 "metadata": {
  "kernelspec": {
   "display_name": "Python 2",
   "language": "python",
   "name": "python2"
  },
  "language_info": {
   "codemirror_mode": {
    "name": "ipython",
    "version": 2
   },
   "file_extension": ".py",
   "mimetype": "text/x-python",
   "name": "python",
   "nbconvert_exporter": "python",
   "pygments_lexer": "ipython2",
   "version": "2.7.10"
  }
 },
 "nbformat": 4,
 "nbformat_minor": 0
}
