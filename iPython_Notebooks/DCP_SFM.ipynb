{
 "metadata": {
  "name": "",
  "signature": "sha256:5f34bd41c4f473e9039483c0956d8a717309194031aab94f15a098fadec8b2d3"
 },
 "nbformat": 3,
 "nbformat_minor": 0,
 "worksheets": [
  {
   "cells": [
    {
     "cell_type": "code",
     "collapsed": false,
     "input": [
      "import matplotlib.pyplot as plt\n",
      "import pandas as pd\n",
      "import seaborn as sns\n",
      "\n",
      "gcolour=[0.9,0.5, 0.0];\n",
      "ngcolour=[0.9, 0.6, 0.0];\n",
      "scolour=[0.6, 0.2, 0];\n",
      "jcolour=[0.25, 1.0, 0.0];\n",
      "pjcolour=[0.0, 0.5, 0.0];\n",
      "pjgcolour=[0.2, 0.5, 0.0];\n",
      "pcolour=[0.5, 0.5, 1.0];\n",
      "mcolour=[0.0, 0.0, 0.6];\n",
      "siteColors = [gcolour, scolour, jcolour, pjcolour, pcolour, mcolour]\n",
      "\n",
      "dataDir = '/home/nikko/Research/Data/TowerData/AmerifluxFiles/Products/'\n",
      "dailyFileName = 'AllAmfluxData_Daily_Reichstein.csv'\n",
      "dailyData = pd.read_csv(dataDir + dailyFileName)\n"
     ],
     "language": "python",
     "metadata": {},
     "outputs": [],
     "prompt_number": 3
    },
    {
     "cell_type": "code",
     "collapsed": false,
     "input": [
      "timestamp = []\n",
      "idx = 0\n",
      "import datetime\n",
      "for time in arange(0,dailyData.YEAR.size):\n",
      "    #print time\n",
      "    idx = idx + 1\n",
      "    timestamp.append(datetime.datetime(int(dailyData.YEAR[time]), 1, 1) + datetime.timedelta(int(dailyData.DOY[time]) - 1))\n",
      "    \n",
      "indexed_df = dailyData.set_index(pd.to_datetime(timestamp))\n",
      "monthlydata = indexed_df.groupby(['SITE','YEAR',indexed_df.index.month])\n",
      "monthlyDF = pd.DataFrame(dict(GPP = monthlydata.GPP.sum(), RE = monthlydata.RE.sum(),\n",
      "                              PRECIP = monthlydata.PRECIP.sum(), TA = monthlydata.TA_mean.mean()))\n",
      "\n",
      "monthlyDF.head()\n",
      "monthlyDF.to_csv('monthlydata.csv')\n",
      "monthlydataDF = pd.read_csv('monthlydata.csv')\n",
      "monthlydataDF.columns = ['SITE','YEAR','MONTH','GPP','PRECIP','RE','TA']\n",
      "PJ = monthlydataDF[monthlydataDF.SITE =='Mpj']"
     ],
     "language": "python",
     "metadata": {},
     "outputs": [],
     "prompt_number": 10
    },
    {
     "cell_type": "code",
     "collapsed": false,
     "input": [
      "fig, ((ax1, ax2, ax3), (ax4, ax5, ax6), (ax7, ax8, ax9)) = plt.subplots(3,3, \n",
      "                                                        sharey = True,\n",
      "                                                        figsize = (8,9))\n",
      "subplots_adjust(wspace = 0.1)\n",
      "axs = fig.axes\n",
      "idx = 0\n",
      "\n",
      "for year in unique(PJ.YEAR):\n",
      "    yearlyData = PJ[PJ.YEAR == year]\n",
      "    ax = axs[idx]\n",
      "    yearlyData.plot(ax = ax, kind = 'bar', x = 'MONTH', y = 'GPP')\n",
      "    ax.set_ylim(0,120)\n",
      "    ax.grid(False)\n",
      "    ax.legend().set_visible(False)\n",
      "    ax.set_title(year)\n",
      "    idx = idx + 1\n",
      "sns.set_style(\"white\")\n"
     ],
     "language": "python",
     "metadata": {},
     "outputs": [
      {
       "metadata": {},
       "output_type": "display_data",
       "png": "[encoded data removed]",
       "text": [
        "<matplotlib.figure.Figure at 0x7fc98ca87350>"
       ]
      }
     ],
     "prompt_number": 35
    }
   ],
   "metadata": {}
  }
 ]
}