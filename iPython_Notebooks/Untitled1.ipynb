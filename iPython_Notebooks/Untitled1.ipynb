{
 "metadata": {
  "name": "",
  "signature": "sha256:df16232a808f0a074b4720530a82394a6c33c3e4432dfe5c16c4ea500d797321"
 },
 "nbformat": 3,
 "nbformat_minor": 0,
 "worksheets": [
  {
   "cells": [
    {
     "cell_type": "code",
     "collapsed": false,
     "input": [
      "from osgeo import gdal  \n",
      "from osgeo.gdalnumeric import *  \n",
      "from osgeo.gdalconst import *  \n",
      "  \n",
      "DSM = \"/home/nikko/Research/DCP_SFM_Imagery/DSM/Deer_Plateau_09042014_DSM.gtif\"  \n",
      "DTM = \"/home/nikko/Research/DCP_SFM_Imagery/DTM/Deer_Plateau_09042014_DTM.gtif\"  \n",
      "  \n",
      "outFile = \"Deer_Plateau_09042014_CanHeight.tiff\"  \n",
      "  \n",
      "#Open the dataset  \n",
      "ds1 = gdal.Open(DTM, GA_ReadOnly )\n",
      "ds2 = gdal.Open(DSM, GA_ReadOnly )  \n",
      "\n",
      "DTM = ds1.GetRasterBand(1)  \n",
      "DSM = ds2.GetRasterBand(1)  \n",
      "\n",
      "#Read the data into numpy arrays  \n",
      "Terrain = BandReadAsArray(DTM)  \n",
      "Surface = BandReadAsArray(DSM)  \n",
      "\n",
      "#The actual calculation  \n",
      "#dataOut = numpy.sqrt(data1*data1+data2*data2)  \n",
      "  \n",
      "#Write the out file  \n",
      "#driver = gdal.GetDriverByName(\"GTiff\")  \n",
      "#dsOut = driver.Create(\"out.tiff\", ds1.RasterXSize, ds1.RasterYSize, 1, band1.DataType)  \n",
      "#CopyDatasetInfo(ds1,dsOut)  \n",
      "#bandOut=dsOut.GetRasterBand(1)  \n",
      "#BandWriteArray(bandOut, dataOut)  "
     ],
     "language": "python",
     "metadata": {},
     "outputs": [],
     "prompt_number": 18
    },
    {
     "cell_type": "code",
     "collapsed": false,
     "input": [
      "Terrain - Surface"
     ],
     "language": "python",
     "metadata": {},
     "outputs": [
      {
       "ename": "ValueError",
       "evalue": "operands could not be broadcast together with shapes (1943,2503) (32378,41716) ",
       "output_type": "pyerr",
       "traceback": [
        "\u001b[1;31m---------------------------------------------------------------------------\u001b[0m\n\u001b[1;31mValueError\u001b[0m                                Traceback (most recent call last)",
        "\u001b[1;32m<ipython-input-25-28a49f3bfcca>\u001b[0m in \u001b[0;36m<module>\u001b[1;34m()\u001b[0m\n\u001b[1;32m----> 1\u001b[1;33m \u001b[0mTerrain\u001b[0m \u001b[1;33m-\u001b[0m \u001b[0mSurface\u001b[0m\u001b[1;33m\u001b[0m\u001b[0m\n\u001b[0m",
        "\u001b[1;31mValueError\u001b[0m: operands could not be broadcast together with shapes (1943,2503) (32378,41716) "
       ]
      }
     ],
     "prompt_number": 25
    }
   ],
   "metadata": {}
  }
 ]
}