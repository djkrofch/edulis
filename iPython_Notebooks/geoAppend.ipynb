{
 "cells": [
  {
   "cell_type": "markdown",
   "metadata": {},
   "source": [
    "### Quick function to apply spatial data from one raster to another\n",
    "In the LANDIS environment, all raster inputs and outputs have no spatial data associated with them, yet we often want to overlay the data in a GIS or interact with the output using geospatial operators with  vector data e.g., zonal stats, etc. Generally simple to do, with the number of mapped outputs created by LANDIS, a programmatic solution is the way to go. \n",
    "\n",
    "This simple function leverages the fact that intitially, LANDIS inputs are most likely associated with geospatial data, and consequently we can simply use gdal to get the spatial context for our analysis output by reading in an input file (e.g., initial communities, or ecoregions etc.).\n",
    "\n",
    "In a simple loop, you could pass a directory structure to the function and step through all maps in a directory, for example."
   ]
  },
  {
   "cell_type": "code",
   "execution_count": 13,
   "metadata": {
    "collapsed": true
   },
   "outputs": [],
   "source": [
    "import numpy, gdal\n",
    "# Inputs\n",
    "# spatialRaster -       '/path/to/georegistered/raster.tif'\n",
    "# nonproojectedRaster - '/path/to/raster/you/want/georegistered/'\n",
    "# outputFileName -      '/path/to/georegistered/output'\n",
    "\n",
    "def geoAppend(spatialRaster, nonprojectedRaster, outputFileName):\n",
    "    \n",
    "    # Read in a raster with spatial data, and identical dimensions to a LANDIS output\n",
    "    # Ideal files are rasters that are input to LANDIS and also were generated inside\n",
    "    # a GIS, like your ecoregion or management unit file.\n",
    "    templatedf = gdal.Open(spatialRaster)\n",
    "    template = templatedf.ReadAsArray()\n",
    "    \n",
    "    # Read in file with no spatial data -- must be same dimensions as your template\n",
    "    toAppenddf = gdal.Open(nonprojectedRaster)\n",
    "    toAppend = toAppenddf.ReadAsArray()\n",
    "    \n",
    "    # Initialize an empty geotiff\n",
    "    driver = gdal.GetDriverByName('GTiff')\n",
    "    \n",
    "    # Set the name and dimensions of the output\n",
    "    outputRaster = driver.Create(outputFileName,\n",
    "                                 toAppend.shape[1],\n",
    "                                 toAppend.shape[0])\n",
    "    \n",
    "    # Assign the geotransform and projection from the input raster\n",
    "    outputRaster.SetGeoTransform(templatedf.GetGeoTransform())\n",
    "    outputRaster.SetProjection(templatedf.GetProjection())\n",
    "    \n",
    "    # Write the array to our gdal geotiff\n",
    "    outputRaster.GetRasterBand(1).WriteArray(toAppend)\n",
    "    \n",
    "    # Write the output raster to disk\n",
    "    outputRaster.FlushCache()"
   ]
  }
 ],
 "metadata": {
  "kernelspec": {
   "display_name": "Python 2",
   "language": "python",
   "name": "python2"
  },
  "language_info": {
   "codemirror_mode": {
    "name": "ipython",
    "version": 2
   },
   "file_extension": ".py",
   "mimetype": "text/x-python",
   "name": "python",
   "nbconvert_exporter": "python",
   "pygments_lexer": "ipython2",
   "version": "2.7.11"
  }
 },
 "nbformat": 4,
 "nbformat_minor": 0
}
