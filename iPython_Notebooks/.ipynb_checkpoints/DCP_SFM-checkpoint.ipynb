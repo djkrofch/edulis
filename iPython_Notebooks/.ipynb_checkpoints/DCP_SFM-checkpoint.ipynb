{
 "metadata": {
  "name": "",
  "signature": "sha256:2c7a3b881b78bb7495f302512103ee4f219c4e6b88f1b1f8db3b5f447a12c2e9"
 },
 "nbformat": 3,
 "nbformat_minor": 0,
 "worksheets": []
}